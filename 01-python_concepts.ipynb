{
 "cells": [
  {
   "cell_type": "markdown",
   "id": "9383bafa",
   "metadata": {},
   "source": [
    "### Python Programming Concepts"
   ]
  },
  {
   "cell_type": "markdown",
   "id": "17df7d6e",
   "metadata": {},
   "source": [
    "#### 1. Create a variable to store the value 500 for sales"
   ]
  },
  {
   "cell_type": "code",
   "execution_count": 1,
   "id": "a5f43c2f",
   "metadata": {},
   "outputs": [],
   "source": [
    "sales_1= 500"
   ]
  },
  {
   "cell_type": "markdown",
   "id": "6dc8b9ea",
   "metadata": {},
   "source": [
    "#### 2. Create a variable to store several values:  \n",
    "* sales: 500, 475, 625\n",
    "* integers 1 - 9 "
   ]
  },
  {
   "cell_type": "code",
   "execution_count": 2,
   "id": "902fe3bd",
   "metadata": {},
   "outputs": [],
   "source": [
    "sales_2 = [500,475,625]\n",
    "integers = 1 - 9"
   ]
  },
  {
   "cell_type": "markdown",
   "id": "62e55953",
   "metadata": {},
   "source": [
    "#### 3. Create a variable to store the names and email addresses for a number of customers\n",
    "* John, john@some.com; Ann, ann@some.com"
   ]
  },
  {
   "cell_type": "code",
   "execution_count": null,
   "id": "03f2b161",
   "metadata": {},
   "outputs": [
    {
     "name": "stdout",
     "output_type": "stream",
     "text": [
      "{'name_1': 'John', 'email_1': 'john@some.com', 'name_2': 'Ann', 'email_2': 'ann@some.com'}\n"
     ]
    }
   ],
   "source": [
    "dict = {\"name_1\": 'John', \"email_1\": \"john@some.com\", \"name_2\": 'Ann', \"email_2\": \"ann@some.com\"}\n",
    "print(dict)"
   ]
  },
  {
   "cell_type": "markdown",
   "id": "d6b1e8c6",
   "metadata": {},
   "source": [
    "#### 4. Use Python to generate a random value based on each of following:\n",
    "1. between 0 and 1\n",
    "2. the standard normal distribution (rounded to two decimal places)\n",
    "3. a value between 1 and 10\n",
    "4. either H or T"
   ]
  },
  {
   "cell_type": "code",
   "execution_count": null,
   "id": "f004d7b5",
   "metadata": {},
   "outputs": [
    {
     "name": "stdout",
     "output_type": "stream",
     "text": [
      "1\n"
     ]
    }
   ],
   "source": [
    "#1\n",
    "import random\n",
    "a = random.randint(0, 1)\n",
    "print(a)"
   ]
  },
  {
   "cell_type": "code",
   "execution_count": null,
   "id": "a8efc6fc",
   "metadata": {},
   "outputs": [
    {
     "name": "stdout",
     "output_type": "stream",
     "text": [
      "[ 0.52  1.74  0.73  0.22  1.02 -0.4  -1.1  -1.54 -1.15 -1.  ]\n"
     ]
    }
   ],
   "source": [
    "#2\n",
    "import numpy as np\n",
    "\n",
    "data = np.random.normal(size=10)\n",
    "print(np.round(data, 2))"
   ]
  },
  {
   "cell_type": "code",
   "execution_count": null,
   "id": "f20b6134-2d52-4465-a867-e7b69e9a9d94",
   "metadata": {},
   "outputs": [
    {
     "name": "stdout",
     "output_type": "stream",
     "text": [
      "2\n"
     ]
    }
   ],
   "source": [
    "#3\n",
    "import random\n",
    "b= random.randint(1, 10)\n",
    "print(b)"
   ]
  },
  {
   "cell_type": "code",
   "execution_count": null,
   "id": "3a150c3e",
   "metadata": {},
   "outputs": [
    {
     "name": "stdout",
     "output_type": "stream",
     "text": [
      "H\n"
     ]
    }
   ],
   "source": [
    "#4\n",
    "import random\n",
    "a = random.choice(['H', 'T'])\n",
    "print(a)"
   ]
  },
  {
   "cell_type": "markdown",
   "id": "7eddf06a",
   "metadata": {},
   "source": [
    "#### 5. Use Python to determine your current working directory"
   ]
  },
  {
   "cell_type": "code",
   "execution_count": 8,
   "id": "4ed1d787",
   "metadata": {},
   "outputs": [
    {
     "name": "stdout",
     "output_type": "stream",
     "text": [
      "Current Working Directory: /Users/minhphan/Desktop/OIM7502_F25\n"
     ]
    }
   ],
   "source": [
    "import os\n",
    "\n",
    "cwd = os.getcwd()\n",
    "print(\"Current Working Directory:\", cwd)"
   ]
  },
  {
   "cell_type": "markdown",
   "id": "fc43ec50",
   "metadata": {},
   "source": [
    "#### 6. Use Python to determine how many days until New Year's Day"
   ]
  },
  {
   "cell_type": "code",
   "execution_count": 12,
   "id": "13f630fe",
   "metadata": {},
   "outputs": [
    {
     "name": "stdout",
     "output_type": "stream",
     "text": [
      "108\n"
     ]
    }
   ],
   "source": [
    "from datetime import date\n",
    "\n",
    "datediff = date(2026, 1, 1) - date.today()\n",
    "print(datediff.days)"
   ]
  },
  {
   "cell_type": "markdown",
   "id": "2ba4ea92",
   "metadata": {},
   "source": [
    "#### 7. Write a short program that displays the future value of 1,000 earning 5%  at the end of each year for the next 5 years"
   ]
  },
  {
   "cell_type": "code",
   "execution_count": 13,
   "id": "6fef4a8c",
   "metadata": {},
   "outputs": [
    {
     "name": "stdout",
     "output_type": "stream",
     "text": [
      "1276.28\n"
     ]
    }
   ],
   "source": [
    "values = 1000\n",
    "rate = 0.05\n",
    "n = 5\n",
    "\n",
    "fv = values * (1 + rate) ** n\n",
    "print(round(fv,2))"
   ]
  },
  {
   "cell_type": "markdown",
   "id": "150201c8",
   "metadata": {},
   "source": [
    "#### 8. Write a short program that prompts a user to enter a stock symbol and press enter. Add each symbol entered to a variable. The program should run until the user presses the enter key without entering anything (empty string) "
   ]
  },
  {
   "cell_type": "code",
   "execution_count": 11,
   "id": "931a346f",
   "metadata": {},
   "outputs": [
    {
     "name": "stdout",
     "output_type": "stream",
     "text": [
      "['GS', 'APPL', 'META']\n"
     ]
    }
   ],
   "source": [
    "symbols = []\n",
    "\n",
    "while True:\n",
    "    symbol = input(\"Enter stock symbol: \").upper()\n",
    "    if symbol == \"\":\n",
    "        break\n",
    "    symbols.append(symbol)\n",
    "print(symbols)"
   ]
  },
  {
   "cell_type": "markdown",
   "id": "fc2a7592",
   "metadata": {},
   "source": [
    "#### 9. Write the code necessary to calculate the sum of the square differences of a group of values : \n",
    "58, 32, 37, 41, 36, 36, 54, 37, 25, 53\n",
    "##### $\\Sigma $(${x}$ - $\\bar{x}$)$^2$"
   ]
  },
  {
   "cell_type": "code",
   "execution_count": 14,
   "id": "13d9a6c5",
   "metadata": {},
   "outputs": [
    {
     "name": "stdout",
     "output_type": "stream",
     "text": [
      "994.22\n"
     ]
    }
   ],
   "source": [
    "import statistics\n",
    "data = [58,32,37,41,36,54,37,25,53]\n",
    "mean = statistics.mean(data)\n",
    "sq_diff_sum = 0\n",
    "for i in data:\n",
    "    sq_diff_sum = sq_diff_sum + (i - mean) ** 2\n",
    "print(round(sq_diff_sum,2))"
   ]
  },
  {
   "cell_type": "markdown",
   "id": "6d6f2e64",
   "metadata": {},
   "source": [
    "#### 10. Opening, reading and writing files"
   ]
  },
  {
   "cell_type": "code",
   "execution_count": 17,
   "id": "f7fa569d",
   "metadata": {},
   "outputs": [
    {
     "name": "stdout",
     "output_type": "stream",
     "text": [
      "Hello Second World!\n",
      "Hello Third World!\n"
     ]
    }
   ],
   "source": [
    "# Open orginal file for read:\n",
    "with open(\"text.txt\", \"r\") as f:\n",
    "   content = f.read()\n",
    "print(content)\n",
    "\n",
    "# Open file for write:\n",
    "with open(\"text.txt\", \"w\") as f:\n",
    "\tf.write(\"Hello Third World!\")\n",
    "\n",
    "\n",
    "with open(\"text.txt\", \"r\") as f:\n",
    "\tcontent = f.read()\n",
    "print(content)"
   ]
  },
  {
   "cell_type": "markdown",
   "id": "eec548d6",
   "metadata": {},
   "source": [
    "#### 11. Create a function the will simulate rolling two die and return the value of each and and the sum "
   ]
  },
  {
   "cell_type": "code",
   "execution_count": 21,
   "id": "2179adbf",
   "metadata": {},
   "outputs": [
    {
     "name": "stdout",
     "output_type": "stream",
     "text": [
      "Die 1: 3, Die 2: 1, Sum: 4\n"
     ]
    }
   ],
   "source": [
    "import random\n",
    "def roll():\n",
    "    die1 = random.randint(1, 6)\n",
    "    die2 = random.randint(1, 6)\n",
    "    total = die1 + die2\n",
    "    print(f\"Die 1: {die1}, Die 2: {die2}, Sum: {total}\")\n",
    "roll()"
   ]
  },
  {
   "cell_type": "markdown",
   "id": "21556d7f",
   "metadata": {},
   "source": [
    "#### 12. Write the code needed to evaluate whether a value in a group of values is negative or postive and prints an approriate message, i.e. postive, negative \n",
    "-1.59, 2.36, 1.69, 1.13, -0.91, 1.48, -0.34, 1.31, -0.74, 0.2"
   ]
  },
  {
   "cell_type": "code",
   "execution_count": 22,
   "id": "d6c38ecb",
   "metadata": {},
   "outputs": [
    {
     "name": "stdout",
     "output_type": "stream",
     "text": [
      "-1.59 is negative\n",
      "2.36 is positive\n",
      "1.69 is positive\n",
      "1.13 is positive\n",
      "-0.91 is negative\n",
      "1.48 is positive\n",
      "-0.34 is negative\n",
      "1.31 is positive\n",
      "-0.74 is negative\n",
      "0.2 is positive\n"
     ]
    }
   ],
   "source": [
    "a = [-1.59, 2.36, 1.69, 1.13, -0.91, 1.48, -0.34, 1.31, -0.74, 0.2]\n",
    "for i in a :\n",
    "    if i > 0:\n",
    "        print(f\"{i} is positive\")\n",
    "    else:\n",
    "        print(f\"{i} is negative\")"
   ]
  },
  {
   "cell_type": "markdown",
   "id": "8cafe65c",
   "metadata": {},
   "source": [
    "#### 14.  Complete the following:\n",
    "1. Write a program that generates 500 random integers from 1 to n, for example, the first integer will be 1 the second will be 1 or 2, the fifth between 1 and 5, and so on.\n",
    "2. The program should write each integer to a file \n",
    "3. Once all integers are written close the file\n",
    "\n",
    "##### Part 2\n",
    "1. Open and read the file into a list\n",
    "2. Create a line plot of the data"
   ]
  },
  {
   "cell_type": "code",
   "execution_count": 6,
   "id": "60a910bb",
   "metadata": {},
   "outputs": [
    {
     "name": "stdout",
     "output_type": "stream",
     "text": [
      "[1, 2, 1, 2, 4, 2, 7, 1, 7, 10, 8, 12, 7, 13, 7, 4, 5, 7, 19, 20, 18, 9, 22, 12, 20, 21, 7, 21, 14, 2, 4, 10, 11, 29, 7, 13, 34, 15, 37, 12, 12, 27, 6, 1, 5, 22, 21, 41, 8, 17, 8, 35, 46, 43, 48, 4, 24, 37, 23, 21, 5, 50, 33, 37, 52, 31, 46, 45, 18, 56, 50, 51, 67, 11, 12, 57, 69, 70, 60, 3, 39, 73, 46, 83, 80, 4, 61, 17, 17, 14, 73, 45, 36, 25, 46, 62, 61, 60, 33, 48, 59, 50, 103, 67, 60, 91, 77, 13, 97, 102, 108, 4, 38, 64, 92, 112, 52, 57, 49, 38, 114, 6, 84, 117, 36, 108, 8, 120, 75, 119, 53, 76, 30, 110, 107, 72, 48, 36, 31, 138, 41, 116, 6, 126, 113, 95, 70, 60, 81, 20, 56, 144, 98, 151, 47, 5, 113, 109, 146, 42, 50, 17, 69, 83, 2, 132, 164, 39, 139, 98, 72, 104, 35, 60, 44, 145, 12, 109, 118, 132, 145, 31, 157, 72, 176, 156, 161, 11, 172, 175, 86, 140, 22, 162, 154, 75, 5, 195, 129, 99, 39, 74, 166, 176, 75, 156, 7, 21, 35, 209, 119, 134, 26, 200, 144, 41, 76, 129, 125, 59, 66, 188, 75, 162, 131, 136, 151, 210, 89, 58, 3, 210, 32, 145, 21, 27, 101, 57, 126, 139, 51, 192, 57, 209, 163, 175, 70, 142, 90, 4, 131, 27, 205, 50, 233, 122, 240, 217, 24, 155, 68, 200, 148, 87, 184, 12, 90, 25, 31, 257, 58, 211, 263, 77, 228, 104, 127, 12, 262, 111, 44, 141, 193, 214, 172, 103, 278, 100, 95, 112, 8, 244, 120, 79, 170, 164, 211, 263, 102, 300, 93, 163, 204, 275, 214, 213, 83, 264, 214, 40, 130, 269, 69, 162, 301, 167, 33, 296, 119, 121, 319, 13, 314, 120, 86, 13, 5, 282, 56, 131, 263, 138, 23, 148, 73, 135, 255, 104, 160, 218, 94, 76, 28, 220, 102, 34, 97, 342, 113, 180, 301, 279, 58, 14, 265, 79, 260, 109, 83, 319, 51, 332, 40, 318, 23, 270, 199, 299, 263, 357, 214, 38, 239, 225, 207, 370, 292, 308, 170, 298, 140, 308, 377, 21, 28, 82, 160, 270, 300, 299, 149, 45, 44, 82, 36, 177, 257, 90, 20, 4, 63, 83, 267, 391, 69, 368, 394, 309, 171, 199, 166, 193, 90, 229, 271, 50, 6, 98, 132, 284, 336, 294, 31, 342, 222, 15, 365, 304, 125, 126, 48, 110, 203, 165, 289, 145, 327, 165, 324, 131, 348, 432, 374, 317, 1, 157, 196, 114, 252, 262, 435, 148, 52, 179, 294, 404, 286, 368, 310, 176, 360, 85, 286, 455, 127, 431, 155, 406, 266, 156, 401, 180, 116, 73, 435, 221, 335, 437, 366, 163, 78, 29, 380, 420, 240, 247, 415, 278, 253, 207, 456, 484, 291, 324, 313, 141, 72, 198, 358, 39]\n"
     ]
    }
   ],
   "source": [
    "# Part 1:\n",
    "import random\n",
    "size = 500\n",
    "random_integers = [random.randint(1, i + 1) for i in range(size)]\n",
    "print(random_integers)\n",
    "with open(\"random_integers.txt\", \"w\") as f:\n",
    "\tfor number in random_integers:\n",
    "\t\tf.write(f\"{number}\\n\")"
   ]
  },
  {
   "cell_type": "code",
   "execution_count": 7,
   "id": "d6b4180c",
   "metadata": {},
   "outputs": [
    {
     "name": "stdout",
     "output_type": "stream",
     "text": [
      "[1, 2, 1, 2, 4, 2, 7, 1, 7, 10, 8, 12, 7, 13, 7, 4, 5, 7, 19, 20, 18, 9, 22, 12, 20, 21, 7, 21, 14, 2, 4, 10, 11, 29, 7, 13, 34, 15, 37, 12, 12, 27, 6, 1, 5, 22, 21, 41, 8, 17, 8, 35, 46, 43, 48, 4, 24, 37, 23, 21, 5, 50, 33, 37, 52, 31, 46, 45, 18, 56, 50, 51, 67, 11, 12, 57, 69, 70, 60, 3, 39, 73, 46, 83, 80, 4, 61, 17, 17, 14, 73, 45, 36, 25, 46, 62, 61, 60, 33, 48, 59, 50, 103, 67, 60, 91, 77, 13, 97, 102, 108, 4, 38, 64, 92, 112, 52, 57, 49, 38, 114, 6, 84, 117, 36, 108, 8, 120, 75, 119, 53, 76, 30, 110, 107, 72, 48, 36, 31, 138, 41, 116, 6, 126, 113, 95, 70, 60, 81, 20, 56, 144, 98, 151, 47, 5, 113, 109, 146, 42, 50, 17, 69, 83, 2, 132, 164, 39, 139, 98, 72, 104, 35, 60, 44, 145, 12, 109, 118, 132, 145, 31, 157, 72, 176, 156, 161, 11, 172, 175, 86, 140, 22, 162, 154, 75, 5, 195, 129, 99, 39, 74, 166, 176, 75, 156, 7, 21, 35, 209, 119, 134, 26, 200, 144, 41, 76, 129, 125, 59, 66, 188, 75, 162, 131, 136, 151, 210, 89, 58, 3, 210, 32, 145, 21, 27, 101, 57, 126, 139, 51, 192, 57, 209, 163, 175, 70, 142, 90, 4, 131, 27, 205, 50, 233, 122, 240, 217, 24, 155, 68, 200, 148, 87, 184, 12, 90, 25, 31, 257, 58, 211, 263, 77, 228, 104, 127, 12, 262, 111, 44, 141, 193, 214, 172, 103, 278, 100, 95, 112, 8, 244, 120, 79, 170, 164, 211, 263, 102, 300, 93, 163, 204, 275, 214, 213, 83, 264, 214, 40, 130, 269, 69, 162, 301, 167, 33, 296, 119, 121, 319, 13, 314, 120, 86, 13, 5, 282, 56, 131, 263, 138, 23, 148, 73, 135, 255, 104, 160, 218, 94, 76, 28, 220, 102, 34, 97, 342, 113, 180, 301, 279, 58, 14, 265, 79, 260, 109, 83, 319, 51, 332, 40, 318, 23, 270, 199, 299, 263, 357, 214, 38, 239, 225, 207, 370, 292, 308, 170, 298, 140, 308, 377, 21, 28, 82, 160, 270, 300, 299, 149, 45, 44, 82, 36, 177, 257, 90, 20, 4, 63, 83, 267, 391, 69, 368, 394, 309, 171, 199, 166, 193, 90, 229, 271, 50, 6, 98, 132, 284, 336, 294, 31, 342, 222, 15, 365, 304, 125, 126, 48, 110, 203, 165, 289, 145, 327, 165, 324, 131, 348, 432, 374, 317, 1, 157, 196, 114, 252, 262, 435, 148, 52, 179, 294, 404, 286, 368, 310, 176, 360, 85, 286, 455, 127, 431, 155, 406, 266, 156, 401, 180, 116, 73, 435, 221, 335, 437, 366, 163, 78, 29, 380, 420, 240, 247, 415, 278, 253, 207, 456, 484, 291, 324, 313, 141, 72, 198, 358, 39]\n"
     ]
    }
   ],
   "source": [
    "# Part 2:\n",
    "with open(\"random_integers.txt\", \"r\") as f:\n",
    "    numbers = [int(line.strip()) for line in f.readlines()]\n",
    "print(numbers)"
   ]
  },
  {
   "cell_type": "code",
   "execution_count": 23,
   "id": "adb6aa11",
   "metadata": {},
   "outputs": [
    {
     "data": {
      "text/plain": [
       "<Axes: >"
      ]
     },
     "execution_count": 23,
     "metadata": {},
     "output_type": "execute_result"
    },
    {
     "data": {
      "image/png": "[encoded data removed]",
      "text/plain": [
       "<Figure size 640x480 with 1 Axes>"
      ]
     },
     "metadata": {},
     "output_type": "display_data"
    }
   ],
   "source": [
    "import seaborn as sns\n",
    "sns.lineplot(numbers)"
   ]
  }
 ],
 "metadata": {
  "kernelspec": {
   "display_name": "Python 3",
   "language": "python",
   "name": "python3"
  },
  "language_info": {
   "codemirror_mode": {
    "name": "ipython",
    "version": 3
   },
   "file_extension": ".py",
   "mimetype": "text/x-python",
   "name": "python",
   "nbconvert_exporter": "python",
   "pygments_lexer": "ipython3",
   "version": "3.13.7"
  }
 },
 "nbformat": 4,
 "nbformat_minor": 5
}
